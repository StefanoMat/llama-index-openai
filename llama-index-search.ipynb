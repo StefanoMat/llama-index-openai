{
 "cells": [
  {
   "cell_type": "code",
   "execution_count": 64,
   "metadata": {},
   "outputs": [
   ],
   "source": [
    "import os\n",
    "from dotenv import find_dotenv, load_dotenv\n",
    "dotenv_path = find_dotenv()\n",
    "print(f\"Carregando .env de: {dotenv_path}\")\n",
    "\n",
    "load_dotenv(dotenv_path, override=True)\n",
    "\n",
    "print(f\"API KEY: {os.getenv('OPENAI_API_KEY')}\")"
   ]
  },
  {
   "cell_type": "code",
   "execution_count": 65,
   "metadata": {},
   "outputs": [],
   "source": [
    "os.environ['OPENAI_API_KEY']=os.getenv('OPENAI_API_KEY')"
   ]
  },
  {
   "cell_type": "code",
   "execution_count": 66,
   "metadata": {},
   "outputs": [],
   "source": [
    "from llama_index.core import VectorStoreIndex, SimpleDirectoryReader\n",
    "documents=SimpleDirectoryReader(\"data\").load_data()"
   ]
  },
  {
   "cell_type": "code",
   "execution_count": 67,
   "metadata": {},
   "outputs": [
    {
     "name": "stderr",
     "output_type": "stream",
     "text": [
      "Parsing nodes: 100%|██████████| 58/58 [00:00<00:00, 2382.71it/s]\n",
      "Generating embeddings: 100%|██████████| 64/64 [00:01<00:00, 42.43it/s]\n"
     ]
    }
   ],
   "source": [
    "index=VectorStoreIndex.from_documents(documents, show_progress=True)"
   ]
  },
  {
   "cell_type": "code",
   "execution_count": 68,
   "metadata": {},
   "outputs": [
    {
     "data": {
      "text/plain": [
       "<llama_index.core.indices.vector_store.base.VectorStoreIndex at 0x1503cba00>"
      ]
     },
     "execution_count": 68,
     "metadata": {},
     "output_type": "execute_result"
    }
   ],
   "source": [
    "index"
   ]
  },
  {
   "cell_type": "code",
   "execution_count": 69,
   "metadata": {},
   "outputs": [],
   "source": [
    "query_engine=index.as_query_engine()"
   ]
  },
  {
   "cell_type": "code",
   "execution_count": 71,
   "metadata": {},
   "outputs": [],
   "source": [
    "response=query_engine.query(\"tem diferenças de motor nas versoes do hrv?\")"
   ]
  },
  {
   "cell_type": "code",
   "execution_count": 72,
   "metadata": {},
   "outputs": [
    {
     "name": "stdout",
     "output_type": "stream",
     "text": [
      "Final Response: Sim, há diferenças de motor nas versões do HR-V. As\n",
      "versões EX e EXL Honda Sensing possuem motor 1.5DI i-VTEC Flex,\n",
      "enquanto as versões Advance e Touring possuem motor 1.5 DI VTEC Turbo\n",
      "Flex.\n",
      "______________________________________________________________________\n",
      "Source Node 1/2\n",
      "Node ID: 7702d3ba-2a71-40c3-891f-1e6ef1eea9cf\n",
      "Similarity: 0.871747943795702\n",
      "Text: Fotos ilustrativas. Consulte disponibilidade de itens de acordo\n",
      "com as demais versões. PERFORMANCE Performance e eficiência aliadas ao\n",
      "prazer em dirigir. O New HR-V carrega alta performance em  todas as\n",
      "versões, com motor 1.5DI i-VTEC Flex  nas versões EX Honda Sensing e\n",
      "EXL Honda  Sensing e motor 1.5 DI VTEC Turbo Flex, nas  versões\n",
      "Advance e ...\n",
      "______________________________________________________________________\n",
      "Source Node 2/2\n",
      "Node ID: 383c359e-999b-45cf-999c-6e3082626d54\n",
      "Similarity: 0.8390986062463703\n",
      "Text: Alguns itens são revestidos em couro e/ou materiais  sintéticos\n",
      "de alta qualidade. *Apple CarPlay é uma marca comercial da Apple Inc.\n",
      "Android Auto é uma marca comercial da Google Inc. *As informações\n",
      "contempladas nesta página se referem ao modelo New HR-V. As imagens\n",
      "são meramente ilustrati- vas, consulte detalhes, especificações e\n",
      "disponibilid...\n"
     ]
    }
   ],
   "source": [
    "from llama_index.core.response.pprint_utils import pprint_response\n",
    "pprint_response(response, show_source=True)"
   ]
  }
 ],
 "metadata": {
  "kernelspec": {
   "display_name": "venv",
   "language": "python",
   "name": "python3"
  },
  "language_info": {
   "codemirror_mode": {
    "name": "ipython",
    "version": 3
   },
   "file_extension": ".py",
   "mimetype": "text/x-python",
   "name": "python",
   "nbconvert_exporter": "python",
   "pygments_lexer": "ipython3",
   "version": "3.9.6"
  }
 },
 "nbformat": 4,
 "nbformat_minor": 2
}
